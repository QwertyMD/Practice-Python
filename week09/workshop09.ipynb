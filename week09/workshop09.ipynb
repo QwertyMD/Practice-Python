{
 "cells": [
  {
   "metadata": {},
   "cell_type": "code",
   "source": [
    "import numpy as np\n",
    "import matplotlib.pyplot as plt\n",
    "\n",
    "def derivative(func, a, method='forward', h=0.001):\n",
    "    \"\"\"\n",
    "    Compute the difference formula for f'(a) with step size h.\n",
    "    Parameters\n",
    "    ----------\n",
    "    func : function\n",
    "        Vectorized function of one variable\n",
    "    a : number\n",
    "        Compute derivative at x = a\n",
    "    method : string\n",
    "        Difference formula: 'forward', 'backward' or 'central'\n",
    "    h : number\n",
    "        Step size in difference formula\n",
    "    Returns\n",
    "    -------\n",
    "    float\n",
    "        Difference formula:\n",
    "        forward: f(a+h) - f(a))/h\n",
    "        backward: f(a) - f(a-h))/h\n",
    "    \"\"\"\n",
    "\n",
    "    if method == 'forward':\n",
    "        return (func(a + h) - func(a)) / h\n",
    "    elif method == 'backward':\n",
    "        return (func(a) - func(a - h)) / h\n",
    "    else:\n",
    "        raise ValueError(\"Method must be 'central', 'forward' or 'backward'.\")\n",
    "    \n",
    "if __name__ == \"__main__\":\n",
    "    # Let check our derivative function on simple functions.\n",
    "    # For example, we know d/dx (cos(x)) = - sin(x) at 0 should\n",
    "    # equal to zero.\n",
    "    actual_value = -np.sin(0.0)\n",
    "    result = derivative(np.cos, 0, method='forward')\n",
    "    print(\"Result = {:0.4f}\".format(result))\n",
    "    print(\"Error = {:0.04f}\".format(np.abs(result - actual_value)))"
   ],
   "id": "c985881ff5dace7a",
   "outputs": [],
   "execution_count": null
  },
  {
   "metadata": {},
   "cell_type": "markdown",
   "source": [
    "#### Problem 1:  \n",
    "\n",
    "**Consider varying the value of step size ℎ to a bigger value and smaller value and check for the error. Consider varying the value of 𝑎 and again check the error.**"
   ],
   "id": "910cb376de15424"
  }
 ],
 "metadata": {
  "kernelspec": {
   "display_name": "Python 3",
   "language": "python",
   "name": "python3"
  },
  "language_info": {
   "codemirror_mode": {
    "name": "ipython",
    "version": 2
   },
   "file_extension": ".py",
   "mimetype": "text/x-python",
   "name": "python",
   "nbconvert_exporter": "python",
   "pygments_lexer": "ipython2",
   "version": "2.7.6"
  }
 },
 "nbformat": 4,
 "nbformat_minor": 5
}
