{
 "cells": [
  {
   "metadata": {},
   "cell_type": "code",
   "source": "",
   "id": "7bca465c51006cb5",
   "outputs": [],
   "execution_count": null
  },
  {
   "metadata": {},
   "cell_type": "markdown",
   "source": "#### Example 1",
   "id": "10030c984f9fd3f7"
  },
  {
   "metadata": {},
   "cell_type": "code",
   "source": [
    "def listLen(v):\n",
    "    count = 0\n",
    "    for i in v:\n",
    "        count += 1\n",
    "    return count\n",
    "\n",
    "# what the program does?"
   ],
   "id": "8c012f6d671b2c01",
   "outputs": [],
   "execution_count": null
  },
  {
   "metadata": {},
   "cell_type": "markdown",
   "source": "*The program defines a function `listLen` that takes a list `v` as input and returns the number of elements in the list.*",
   "id": "831ae067820e09a1"
  },
  {
   "metadata": {},
   "cell_type": "markdown",
   "source": "#### Example 2",
   "id": "f82c42f47c7bf32a"
  },
  {
   "metadata": {},
   "cell_type": "code",
   "source": [
    "def raise(x, n):\n",
    "\n",
    "\n",
    "    if n == 0:  # base case\n",
    "        return 1\n",
    "    else:\n",
    "    return (x *\n",
    "raise (x, n - 1)))\n",
    "\n",
    "#What the program does?"
   ],
   "id": "9e46a800c5c2d34",
   "outputs": [],
   "execution_count": null
  },
  {
   "metadata": {},
   "cell_type": "markdown",
   "source": "*The program defines a recursive function `raise` that takes two arguments, `x` and `n`, and returns the value of `x` raised to the power of `n`. If `n` is 0, it returns 1 (base case). Otherwise, it multiplies `x` by the result of calling `raise` with `n-1`.*",
   "id": "df13d3ccee86d509"
  },
  {
   "metadata": {},
   "cell_type": "markdown",
   "source": "#### Task 1",
   "id": "e9b185a806d4106f"
  },
  {
   "metadata": {},
   "cell_type": "markdown",
   "source": [
    "**a. Implement definitions of 𝑓(𝑛) and 𝑙𝑖𝑠𝑡𝑆𝑒𝑎𝑟𝑐ℎ(𝑚,𝑛) in Python function.**\n",
    "\n",
    "**Ans:**"
   ],
   "id": "4601eb480f39cfca"
  },
  {
   "metadata": {},
   "cell_type": "code",
   "source": [
    "def f(n):\n",
    "    if n == 0:\n",
    "        return 1\n",
    "    else:\n",
    "        return f(n - 1) + 2 * n - 1\n",
    "\n",
    "\n",
    "print(f(2))\n",
    "\n",
    "\n",
    "def listSearch(m, n):\n",
    "    if m == n:\n",
    "        return True\n",
    "    elif m > n:\n",
    "        return False\n",
    "    else:\n",
    "        return listSearch(m, n - 1)\n",
    "\n",
    "\n",
    "print(listSearch(5, 10))"
   ],
   "id": "160043d01589930d",
   "outputs": [],
   "execution_count": null
  },
  {
   "metadata": {},
   "cell_type": "markdown",
   "source": "#### Example 3",
   "id": "3c208f447437b280"
  },
  {
   "metadata": {},
   "cell_type": "code",
   "source": [
    "def pow10(n):\n",
    "    if n == 0:  # base case\n",
    "        return 1\n",
    "    else:\n",
    "        return pow10(n - 1) * 10\n",
    "\n",
    "#What the program does?"
   ],
   "id": "af4c41512b02875f",
   "outputs": [],
   "execution_count": null
  },
  {
   "metadata": {},
   "cell_type": "markdown",
   "source": "*The program defines a recursive function `pow10` that takes an integer `n` as input and returns 10 raised to the power of `n`. If `n` is 0, it returns 1 (base case). Otherwise, it multiplies the result of calling `pow10` with `n-1` by 10.*",
   "id": "8fedec2967873ccd"
  },
  {
   "metadata": {},
   "cell_type": "markdown",
   "source": "#### Example 4",
   "id": "9d8bf4e301ec823d"
  },
  {
   "metadata": {},
   "cell_type": "code",
   "source": [
    "def fact(n):\n",
    "    if n == 1:\n",
    "        return 1\n",
    "    else:\n",
    "        return n * fact(n - 1)\n",
    "\n",
    "# which part of it (if any) is recursive and why? Identify the components that makes it recursive."
   ],
   "id": "155af949c46a0e5d",
   "outputs": [],
   "execution_count": null
  },
  {
   "metadata": {},
   "cell_type": "markdown",
   "source": "*The function `fact` is recursive because it calls itself with a smaller argument (`n-1`) until it reaches the base case (`n == 1`). The recursive call is what makes the function compute the factorial of `n` by multiplying `n` with the factorial of `n-1`.*",
   "id": "3667b95f6d8e173b"
  },
  {
   "metadata": {},
   "cell_type": "markdown",
   "source": "#### Task 2",
   "id": "52679aacbf943498"
  },
  {
   "metadata": {},
   "cell_type": "markdown",
   "source": [
    "**a. Write a recursive function to find the sum of first n natural numbers.**\n",
    "\n",
    "**Ans:**"
   ],
   "id": "85ec6eba01aff1bb"
  },
  {
   "metadata": {},
   "cell_type": "code",
   "source": [
    "def sum_natural(n):\n",
    "    if n <= 1:\n",
    "        return n\n",
    "    return n + sum_natural(n - 1)\n",
    "\n",
    "\n",
    "print(sum_natural(5))"
   ],
   "id": "2fd3010e1505c8bd",
   "outputs": [],
   "execution_count": null
  },
  {
   "metadata": {},
   "cell_type": "markdown",
   "source": [
    "**b. Write a non-recursive function, called sumDigits(i), that takes a positive integer and returns the sum of the digits in the integer. i.e. sumDigitsi(16) = 7, sumDigitsi(111) = 3.**\n",
    "\n",
    "**Ans:**"
   ],
   "id": "63e7d62d16b3644a"
  },
  {
   "metadata": {},
   "cell_type": "code",
   "source": [
    "def sumDigits(i):\n",
    "    sum = 0\n",
    "    while i != 0:\n",
    "        digit = i % 10\n",
    "        sum += digit\n",
    "        i = i // 10\n",
    "    return sum\n",
    "\n",
    "\n",
    "print(sumDigits(888))"
   ],
   "id": "18fbdd911732d52c",
   "outputs": [],
   "execution_count": null
  },
  {
   "metadata": {},
   "cell_type": "markdown",
   "source": [
    "**c. Rewrite the solution from question 5) this time as a recursive function (call it sumDigitsr) that returns the sum of the digits in a positive integer. i.e. sumDigitsr(42) = 6, sumDigitsr(1234) = 10.**\n",
    "\n",
    "**Ans:**"
   ],
   "id": "6abd87bfd427eea5"
  },
  {
   "metadata": {},
   "cell_type": "code",
   "source": [
    "def sumDigitsr(i):\n",
    "    if i == 0:\n",
    "        return 0\n",
    "    return i % 10 + sumDigitsr(i // 10)\n",
    "\n",
    "\n",
    "print(sumDigitsr(777))"
   ],
   "id": "1a5cb3c8a2db39b",
   "outputs": [],
   "execution_count": null
  },
  {
   "metadata": {},
   "cell_type": "markdown",
   "source": [
    "**d. The listSearch function (as defined in the preamble) is able to find items on a flat list. However, neither listSearch or the in operator are able to find items in a tree data structure such as [1,2,[3,[4],5],6,[7,8]]. So write a new recursive Python function that is able to find items on a tree, such that:**\n",
    "\n",
    ">**treeSearch(4, [1,2,[3,[4],5],6,[7,8]]) => True**\n",
    ">\n",
    ">**treeSearch(9, [1,2,[3,[4],5],6,[7,8]]) => False**\n",
    "\n",
    "**Test your solution to ensure it accurately returns True or False.**\n",
    "\n",
    "**Ans:**"
   ],
   "id": "f123ed237cdd0a11"
  },
  {
   "metadata": {},
   "cell_type": "code",
   "source": [
    "def treeSearch(n, lst):\n",
    "    if n in lst:\n",
    "        return True\n",
    "    for item in lst:\n",
    "        if isinstance(item, list):\n",
    "            if treeSearch(n, item):\n",
    "                return True\n",
    "    return False\n",
    "\n",
    "\n",
    "print(treeSearch(4, [1, 2, [3, [4], 5], 6, [7, 8]]))\n",
    "print(treeSearch(9, [1, 2, [3, [4], 5], 6, [7, 8]]))"
   ],
   "id": "ee49f74c4c7e9e79",
   "outputs": [],
   "execution_count": null
  },
  {
   "metadata": {},
   "cell_type": "markdown",
   "source": "#### Task 3",
   "id": "7e1be2eeafe8df29"
  },
  {
   "metadata": {},
   "cell_type": "markdown",
   "source": [
    "**a. Write a python program to solve the Tower of Hanoi.**\n",
    "\n",
    "**Ans:**"
   ],
   "id": "8f4df1e2acb7569b"
  },
  {
   "metadata": {
    "ExecuteTime": {
     "end_time": "2025-04-07T04:28:23.000721Z",
     "start_time": "2025-04-07T04:28:22.997300Z"
    }
   },
   "cell_type": "code",
   "source": [
    "hanoi = {\n",
    "    \"A\": ['1', '2', '3'],\n",
    "    \"B\": [],\n",
    "    \"C\": []\n",
    "}\n",
    "print(\"Initial Hanoi:\", hanoi)\n",
    "flow = {\n",
    "    1: [\"A\", \"C\"],\n",
    "    2: [\"A\", \"B\"],\n",
    "    3: [\"C\", \"B\"],\n",
    "    4: [\"A\", \"C\"],\n",
    "    5: [\"B\", \"A\"],\n",
    "    6: [\"B\", \"C\"],\n",
    "    7: [\"A\", \"C\"]\n",
    "}\n",
    "\n",
    "def can_move(source, target):\n",
    "    if not hanoi[source]:\n",
    "        return False\n",
    "    if not hanoi[target]:\n",
    "        return True\n",
    "    return int(hanoi[source][0]) < int(hanoi[target][0])\n",
    "\n",
    "for key, val in flow.items():\n",
    "    src, dst = val\n",
    "    if can_move(src, dst):\n",
    "        disk = hanoi[src].pop(0)\n",
    "        hanoi[dst].insert(0, disk)\n",
    "\n",
    "print(\"After Solving:\", hanoi)"
   ],
   "id": "480922446a08fea6",
   "outputs": [
    {
     "name": "stdout",
     "output_type": "stream",
     "text": [
      "Initial Hanoi: {'A': ['1', '2', '3'], 'B': [], 'C': []}\n",
      "After Solving: {'A': [], 'B': [], 'C': ['1', '2', '3']}\n"
     ]
    }
   ],
   "execution_count": 52
  }
 ],
 "metadata": {
  "kernelspec": {
   "display_name": "Python 3",
   "language": "python",
   "name": "python3"
  },
  "language_info": {
   "codemirror_mode": {
    "name": "ipython",
    "version": 2
   },
   "file_extension": ".py",
   "mimetype": "text/x-python",
   "name": "python",
   "nbconvert_exporter": "python",
   "pygments_lexer": "ipython2",
   "version": "2.7.6"
  }
 },
 "nbformat": 4,
 "nbformat_minor": 5
}
