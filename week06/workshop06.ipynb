{
 "cells": [
  {
   "metadata": {},
   "cell_type": "code",
   "source": "",
   "id": "7bca465c51006cb5",
   "outputs": [],
   "execution_count": null
  },
  {
   "metadata": {},
   "cell_type": "markdown",
   "source": "#### Example 1",
   "id": "10030c984f9fd3f7"
  },
  {
   "metadata": {},
   "cell_type": "code",
   "source": [
    "def listLen(v):\n",
    "    count = 0\n",
    "    for i in v:\n",
    "        count += 1\n",
    "    return count\n",
    "\n",
    "# what the program does?"
   ],
   "id": "8c012f6d671b2c01",
   "outputs": [],
   "execution_count": null
  },
  {
   "metadata": {},
   "cell_type": "markdown",
   "source": "*The program defines a function `listLen` that takes a list `v` as input and returns the number of elements in the list.*",
   "id": "831ae067820e09a1"
  },
  {
   "metadata": {},
   "cell_type": "markdown",
   "source": "#### Example 2",
   "id": "f82c42f47c7bf32a"
  },
  {
   "metadata": {},
   "cell_type": "code",
   "source": [
    "def raise(x, n):\n",
    "if n == 0:  # base case\n",
    "    return 1\n",
    "else:\n",
    "return (x *\n",
    "raise (x, n - 1)))\n",
    "\n",
    "#What the program does?"
   ],
   "id": "9e46a800c5c2d34",
   "outputs": [],
   "execution_count": null
  },
  {
   "metadata": {},
   "cell_type": "markdown",
   "source": "*The program defines a recursive function `raise` that takes two arguments, `x` and `n`, and returns the value of `x` raised to the power of `n`. If `n` is 0, it returns 1 (base case). Otherwise, it multiplies `x` by the result of calling `raise` with `n-1`.*",
   "id": "df13d3ccee86d509"
  },
  {
   "metadata": {},
   "cell_type": "markdown",
   "source": "#### Task 1",
   "id": "e9b185a806d4106f"
  },
  {
   "metadata": {},
   "cell_type": "markdown",
   "source": [
    "**a. Implement definitions of 𝑓(𝑛) and 𝑙𝑖𝑠𝑡𝑆𝑒𝑎𝑟𝑐ℎ(𝑚,𝑛) in Python function.**\n",
    "\n",
    "**Ans:**"
   ],
   "id": "4601eb480f39cfca"
  },
  {
   "metadata": {},
   "cell_type": "code",
   "source": [
    "def f(n):\n",
    "    if n == 0:\n",
    "        return 1\n",
    "    else:\n",
    "        return f(n - 1) + 2 * n - 1\n",
    "\n",
    "print(f(2))\n",
    "\n",
    "def listSearch(m, n):\n",
    "    if m == n:\n",
    "        return True\n",
    "    elif m > n:\n",
    "        return False\n",
    "    else:\n",
    "        return listSearch(m, n - 1)\n",
    "\n",
    "print(listSearch(5, 10))"
   ],
   "id": "160043d01589930d",
   "outputs": [],
   "execution_count": null
  },
  {
   "metadata": {},
   "cell_type": "markdown",
   "source": "#### Example 3",
   "id": "3c208f447437b280"
  },
  {
   "metadata": {},
   "cell_type": "code",
   "outputs": [],
   "execution_count": null,
   "source": [
    "def pow10(n):\n",
    "    if n == 0: # base case\n",
    "        return 1\n",
    "    else:\n",
    "        return pow10(n-1) * 10\n",
    "\n",
    "#What the program does?"
   ],
   "id": "af4c41512b02875f"
  },
  {
   "metadata": {},
   "cell_type": "markdown",
   "source": "*The program defines a recursive function `pow10` that takes an integer `n` as input and returns 10 raised to the power of `n`. If `n` is 0, it returns 1 (base case). Otherwise, it multiplies the result of calling `pow10` with `n-1` by 10.*",
   "id": "8fedec2967873ccd"
  },
  {
   "metadata": {},
   "cell_type": "markdown",
   "source": "#### Example 4",
   "id": "9d8bf4e301ec823d"
  },
  {
   "metadata": {},
   "cell_type": "code",
   "outputs": [],
   "execution_count": null,
   "source": [
    "def fact(n):\n",
    "    if n == 1:\n",
    "        return 1\n",
    "    else:\n",
    "        return n * fact(n-1)\n",
    "\n",
    "# which part of it (if any) is recursive and why? Identify the components that makes it recursive."
   ],
   "id": "155af949c46a0e5d"
  },
  {
   "metadata": {},
   "cell_type": "markdown",
   "source": "*The function `fact` is recursive because it calls itself with a smaller argument (`n-1`) until it reaches the base case (`n == 1`). The recursive call is what makes the function compute the factorial of `n` by multiplying `n` with the factorial of `n-1`.*",
   "id": "3667b95f6d8e173b"
  },
  {
   "metadata": {},
   "cell_type": "markdown",
   "source": "#### Task 2",
   "id": "52679aacbf943498"
  },
  {
   "metadata": {},
   "cell_type": "markdown",
   "source": [
    "**a. Write a recursive function to find the sum of first n natural numbers.**\n",
    "\n",
    "**Ans:**"
   ],
   "id": "85ec6eba01aff1bb"
  }
 ],
 "metadata": {
  "kernelspec": {
   "display_name": "Python 3",
   "language": "python",
   "name": "python3"
  },
  "language_info": {
   "codemirror_mode": {
    "name": "ipython",
    "version": 2
   },
   "file_extension": ".py",
   "mimetype": "text/x-python",
   "name": "python",
   "nbconvert_exporter": "python",
   "pygments_lexer": "ipython2",
   "version": "2.7.6"
  }
 },
 "nbformat": 4,
 "nbformat_minor": 5
}
