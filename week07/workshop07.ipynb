{
 "cells": [
  {
   "metadata": {},
   "cell_type": "markdown",
   "source": "#### Example 01",
   "id": "dedd16eca134efbd"
  },
  {
   "metadata": {},
   "cell_type": "markdown",
   "source": [
    "a.\n",
    "> 𝑥+3𝑦=5  \n",
    "> 𝑥−2𝑦=−5  \n",
    "> 𝑥+𝑦=3\n",
    "\n",
    "b.\n",
    "> 2𝑥+3𝑦=3  \n",
    "> 4𝑥+6𝑦=6  \n",
    "> 3𝑥−2𝑦=1\n",
    " \n",
    "**Solve the linear systems graphically.**"
   ],
   "id": "26b0c5d3eedb176b"
  },
  {
   "metadata": {},
   "cell_type": "code",
   "source": [
    "import numpy as np\n",
    "\n",
    "import matplotlib.pyplot as plt\n",
    "\n",
    "\"\"\" Part 1 - Problem 1: Solve linear systems graphically. \"\"\"\n",
    "\n",
    "# Generate 100 equidistant point between -5 to 5 for x\n",
    "\n",
    "x = np.linspace(-5, 5, 100)\n",
    "\n",
    "## Calculate y values for Equation 1 and 2\n",
    "\n",
    "y1 = (5 - x) / 3\n",
    "\n",
    "y2 = (5 + x) / 2\n",
    "\n",
    "y3 = 3 - x\n",
    "\n",
    "## Generate a figure frame for plotting the lines\n",
    "\n",
    "fig, ax = plt.subplots()\n",
    "\n",
    "## Plot the two lines\n",
    "\n",
    "ax.plot(x, y1, color='r')\n",
    "\n",
    "ax.plot(x, y2, color='g')\n",
    "\n",
    "ax.plot(x, y3, color='b')\n",
    "\n",
    "## To decorate the plot, we insert equations.\n",
    "\n",
    "ax.text(0.5, 0.6, '$x+3y = 5$', color='r')\n",
    "\n",
    "ax.text(-3, 0.5, '$x-2y = -5$', color='g')\n",
    "\n",
    "ax.text(1.2, 2, '$x+y = 3$', color='b')\n",
    "\n",
    "## Set the limits of the X & Y axes.\n",
    "\n",
    "ax.set_xlim(-4, 4)\n",
    "\n",
    "ax.set_ylim(-2, 6)\n",
    "\n",
    "## Set property of X and Y axes, e.g., color and linewidth\n",
    "\n",
    "ax.axvline(color='k', linewidth=1)\n",
    "\n",
    "ax.axhline(color='k', linewidth=1)\n",
    "\n",
    "## This option specifies the ticks based the list of numbers provided.\n",
    "\n",
    "ax.set_xticks(list(range(-4, 5)))\n",
    "\n",
    "ax.set_aspect('equal')\n",
    "\n",
    "ax.grid(True, ls=':')\n",
    "\n",
    "plt.xlabel(\"X\")\n",
    "\n",
    "plt.ylabel(\"Y\")\n",
    "\n",
    "plt.show()"
   ],
   "id": "5dd5770f18b0a143",
   "outputs": [],
   "execution_count": null
  },
  {
   "metadata": {},
   "cell_type": "markdown",
   "source": [
    "#### Write the conclusion from the above graph.\n",
    "**Ans: The solution of the system of equations is the point of intersection of the lines.**"
   ],
   "id": "315e1348a0e6ecb5"
  },
  {
   "metadata": {},
   "cell_type": "markdown",
   "source": "#### Task 01",
   "id": "ebad5303465c0349"
  },
  {
   "metadata": {},
   "cell_type": "markdown",
   "source": [
    "**Plot the graph for linear system b and write the point of intersection between three lines.**\n",
    "\n",
    "**Ans:**"
   ],
   "id": "56cfd69d85f6ec9"
  },
  {
   "metadata": {},
   "cell_type": "code",
   "source": [
    "import numpy as np\n",
    "import matplotlib.pyplot as plt\n",
    "\n",
    "x = np.linspace(-5, 5, 100)\n",
    "y1 = (3 - 2 * x) / 3\n",
    "y2 = (6 - 4 * x) / 6\n",
    "y3 = (3 * x - 1) / 2\n",
    "fig, ax = plt.subplots()\n",
    "ax.plot(x, y1, color='r')\n",
    "ax.plot(x, y2, color='g')\n",
    "ax.plot(x, y3, color='b')\n",
    "ax.text(-1, 0.5, '$2x+3y = 3$', color='r')\n",
    "ax.text(0.5, 0.5, '$4x+6y = 6$', color='g')\n",
    "ax.text(1, 0.5, '$3x-2y = 1$', color='b')\n",
    "ax.set_xlim(-4, 4)\n",
    "ax.set_ylim(-2, 6)\n",
    "ax.axvline(color='k', linewidth=1)\n",
    "ax.axhline(color='k', linewidth=1)\n",
    "ax.set_xticks(list(range(-4, 5)))\n",
    "ax.set_aspect('equal')\n",
    "ax.grid(True, ls=':')\n",
    "plt.xlabel(\"X\")\n",
    "plt.ylabel(\"Y\")\n",
    "plt.show()"
   ],
   "id": "f0af283509fa44e2",
   "outputs": [],
   "execution_count": null
  },
  {
   "metadata": {},
   "cell_type": "markdown",
   "source": "**The point of intersection between the three lines is: (0.69, 0.53)**\n",
   "id": "b0434a028018bfff"
  },
  {
   "metadata": {},
   "cell_type": "markdown",
   "source": "#### Task 02",
   "id": "5fe08835ddebc581"
  },
  {
   "metadata": {},
   "cell_type": "markdown",
   "source": [
    "**1. Create a program that reads in two 5x6 numpy.arrays, adds them together, and then stores the result in a third 5x6 matrix. The program should then print out the first two matrices and the result matrix.**\n",
    "\n",
    "**Ans:**"
   ],
   "id": "7a2fb7b9cf3fda4d"
  },
  {
   "metadata": {},
   "cell_type": "code",
   "source": [
    "import numpy as np\n",
    "\n",
    "array1 = np.random.randint(1, 10, (5, 6))\n",
    "array2 = np.random.randint(1, 10, (5, 6))\n",
    "result = np.add(array1, array2)\n",
    "print(\"Array 1:\")\n",
    "print(array1)\n",
    "print(\"Array 2:\")\n",
    "print(array2)\n",
    "print(\"Result:\")\n",
    "print(result)"
   ],
   "id": "cf6a8f2457931028",
   "outputs": [],
   "execution_count": null
  },
  {
   "metadata": {},
   "cell_type": "markdown",
   "source": [
    "**2. Create a program that reads in three 2x3 numpy.arrays, subtracts the second from the first, and adds the third to the result. The program should then print out all three matrices and the result matrix.**\n",
    "\n",
    "**Ans:**"
   ],
   "id": "31d323fc4fbe07f0"
  },
  {
   "metadata": {},
   "cell_type": "code",
   "source": [
    "import numpy as np\n",
    "\n",
    "array1 = np.random.randint(1, 10, (2, 3))\n",
    "array2 = np.random.randint(1, 10, (2, 3))\n",
    "array3 = np.random.randint(1, 10, (2, 3))\n",
    "result = np.subtract(array1, array2)\n",
    "result = np.add(result, array3)\n",
    "print(\"Array 1:\")\n",
    "print(array1)\n",
    "print(\"Array 2:\")\n",
    "print(array2)\n",
    "print(\"Array 3:\")\n",
    "print(array3)\n",
    "print(\"Result:\")\n",
    "print(result)"
   ],
   "id": "4814f26a823b9fa3",
   "outputs": [],
   "execution_count": null
  },
  {
   "metadata": {},
   "cell_type": "markdown",
   "source": [
    "**3. Create a 4x4 matrix containing random numbers in the range of 1 to 20. Have the user prompted for a number, check that the imputed value is a number and then check if the number is in the matrix. If the number is in the matrix, return the number of times that number is in the matrix.**\n",
    "\n",
    "**Ans:**"
   ],
   "id": "a61172fe8566886"
  },
  {
   "metadata": {},
   "cell_type": "code",
   "source": [
    "import numpy as np\n",
    "\n",
    "array1 = np.random.randint(1, 20, (4, 4))\n",
    "num = int(input(\"Enter a number: \"))\n",
    "count = np.count_nonzero(array1 == num)\n",
    "if count > 0:\n",
    "    print(f\"The number {num} is in the matrix {count} times.\")\n",
    "else:\n",
    "    print(f\"The number {num} is not in the matrix.\")"
   ],
   "id": "80b886af454d62b4",
   "outputs": [],
   "execution_count": null
  },
  {
   "metadata": {},
   "cell_type": "markdown",
   "source": "#### Some useful linalg functions:",
   "id": "16725bd4557fe62b"
  },
  {
   "metadata": {},
   "cell_type": "code",
   "source": [
    "import numpy as np\n",
    "\n",
    "# 1. linalg.det(a): calculates the determinant of the matrix\n",
    "a = np.array([[1, 2], [3, 4]])\n",
    "det_a = np.linalg.det(a)\n",
    "print(det_a)\n",
    "\n",
    "# 2. linalg.matrix_rank(a): computes the rank of the matrix\n",
    "rank_a = np.linalg.matrix_rank(a)\n",
    "print(rank_a)\n",
    "\n",
    "# 3. linalg.inv(a): calculates the multiplicative inverse of a matrix\n",
    "a_inv = np.linalg.inv(a)\n",
    "print(a_inv)\n",
    "\n",
    "# 4. linalg.solve(a,b): solve a linear system of equations ax=b\n",
    "# Given System:\n",
    "#       x + 2y = 1\n",
    "#       3x + 5y = 2\n",
    "a = np.array([[1, 2], [3, 4]])\n",
    "b = np.array([1, 2])\n",
    "x = np.linalg.solve(a, b)\n",
    "print(x)\n",
    "\n",
    "# 5. linalg.pinv(a): compute the pseudo-inverse of a matrix\n",
    "a = np.random.randn(3, 2)\n",
    "b = np.linalg.pinv(a)\n",
    "np.allclose(a, np.dot(a, np.dot(b, a)))\n",
    "# returns True why?\n",
    "# It checks if the original matrix 'a' is equal to the product of 'a' and its pseudo-inverse 'b' which is true."
   ],
   "id": "4277d3b933081092",
   "outputs": [],
   "execution_count": null
  },
  {
   "metadata": {},
   "cell_type": "markdown",
   "source": "#### Task 03",
   "id": "375c051d8b88d145"
  },
  {
   "metadata": {},
   "cell_type": "markdown",
   "source": [
    "**1. Create a matrix 𝑨 of order 5 × 5 with random entries. Calculate the rank of the matrix 𝑨 to check the number of linearly independent columns or rows and to check if the matrix is invertible. What are the other ways to check if the matrix is invertible?**\n",
    "\n",
    "**Ans:**"
   ],
   "id": "f93dbf4c8cdd86b6"
  },
  {
   "metadata": {},
   "cell_type": "code",
   "source": [
    "import numpy as np\n",
    "\n",
    "A = np.random.randint(1, 10, (5, 5))\n",
    "print(\"Matrix A:\")\n",
    "print(A)\n",
    "rank_A = np.linalg.matrix_rank(A)\n",
    "print(\"Rank of A:\", rank_A)\n",
    "print(\"A is invertible\") if rank_A == A.shape[0] else print(\"A is not invertible.\")\n",
    "\n",
    "# Other way to check if the matrix is invertible\n",
    "det_A = np.linalg.det(A)\n",
    "print(\"Determinant of A:\", det_A)\n",
    "print(\"A is invertible\") if det_A != 0 else print(\"A is not invertible.\")"
   ],
   "id": "d6a8097f3e652f17",
   "outputs": [],
   "execution_count": null
  },
  {
   "metadata": {},
   "cell_type": "markdown",
   "source": [
    "**2. Generate a matrix 𝑨 of order 5 × 5 with random entries and generate a vector (column) 𝒙 of length 5 with random entries. Calculate Matrix-vector product 𝒃 = 𝑨𝒙. Now, we have a linear system, i.e. the matrix 𝑨 and a vector 𝒃. Solve this Linear System.**\n",
    "\n",
    "**Ans:**"
   ],
   "id": "e584f2e658ee01c8"
  },
  {
   "metadata": {},
   "cell_type": "code",
   "source": [
    "import numpy as np\n",
    "\n",
    "A = np.random.randint(1, 10, (5, 5))\n",
    "x = np.random.randint(1, 10, (5, 1))\n",
    "b = np.dot(A, x)\n",
    "print(\"Matrix A:\")\n",
    "print(A)\n",
    "print(\"Vector x:\")\n",
    "print(x)\n",
    "print(\"Matrix-vector product b:\")\n",
    "print(b)\n",
    "x = np.linalg.solve(A, b)\n",
    "print(\"Solution of the linear system:\")\n",
    "print(x)"
   ],
   "id": "e4acb5b9694c466a",
   "outputs": [],
   "execution_count": null
  },
  {
   "metadata": {},
   "cell_type": "markdown",
   "source": [
    "**3. Solve the following system.**\n",
    "> 8x + 3y − 2z = 9  \n",
    "> −4x + 7y + 5z = 15  \n",
    "> 3x + 4y − 12z = 35\n",
    "\n",
    "**Ans:**"
   ],
   "id": "36e78876ef8c138"
  },
  {
   "metadata": {},
   "cell_type": "code",
   "source": [
    "import numpy as np\n",
    "\n",
    "A = np.array([[8, 3, -2], [-4, 7, 5], [3, 4, -12]])\n",
    "b = np.array([9, 15, 35])\n",
    "x = np.linalg.solve(A, b)\n",
    "print(\"Solution of the linear system:\")\n",
    "print(x)"
   ],
   "id": "a644c7f3c9d025fe",
   "outputs": [],
   "execution_count": null
  }
 ],
 "metadata": {
  "kernelspec": {
   "display_name": "Python 3",
   "language": "python",
   "name": "python3"
  },
  "language_info": {
   "codemirror_mode": {
    "name": "ipython",
    "version": 2
   },
   "file_extension": ".py",
   "mimetype": "text/x-python",
   "name": "python",
   "nbconvert_exporter": "python",
   "pygments_lexer": "ipython2",
   "version": "2.7.6"
  }
 },
 "nbformat": 4,
 "nbformat_minor": 5
}
