{
 "cells": [
  {
   "metadata": {},
   "cell_type": "markdown",
   "source": "#### Example 01:",
   "id": "dc061d9472b4d3c9"
  },
  {
   "metadata": {},
   "cell_type": "code",
   "source": [
    "import numpy as np\n",
    "from IPython.core.completerlib import import_re\n",
    "\n",
    "list_x=[1,2,3,4] #python list\n",
    "array = np.array([1, 2, 3, 4, 5, 6]) # single dimensional array\n",
    "matrix = np.array([[1, 2, 3, 4],[5, 6, 7, 8], [9, 10, 11, 12]]) # nD array"
   ],
   "id": "441cd1866e1bf516",
   "outputs": [],
   "execution_count": null
  },
  {
   "metadata": {},
   "cell_type": "markdown",
   "source": "#### Task 01:",
   "id": "f1ad46744db8ab16"
  },
  {
   "metadata": {},
   "cell_type": "markdown",
   "source": [
    "**a. What are the results of `print(array[0])`, `print(matrix[1])`, and `matrix[1,2]`?**\n",
    "\n",
    "**Ans:**\n",
    "- `print(array[0])`: `1`\n",
    "- `print(matrix[1])`: `[5, 6, 7, 8]`\n",
    "- `matrix[1,2]`: `7`"
   ],
   "id": "12c35b3b2466de02"
  },
  {
   "metadata": {},
   "cell_type": "markdown",
   "source": [
    "**b. What are the differences between NumPy array and Python list?**\n",
    "\n",
    "*Hint: write the difference on the basis of the following:*\n",
    "\n",
    "- **Data type storage**\n",
    "- **Importing modules**\n",
    "- **Numerical operations**\n",
    "- **Memory consumption**\n",
    "- **Fast and convenient to use**\n",
    "\n",
    "**Ans:**\n",
    "\n",
    "1. **Data type storage**\n",
    "   - NumPy arrays: Store homogeneous data types (all elements same type)\n",
    "   - Python lists: Can store heterogeneous data types (mixed types allowed)\n",
    "\n",
    "2. **Importing modules**\n",
    "   - NumPy arrays: Require `import numpy` to use\n",
    "   - Python lists: Built-in, no import needed\n",
    "\n",
    "3. **Numerical operations**\n",
    "   - NumPy arrays: Support vectorized operations (fast element-wise operations)\n",
    "   - Python lists: Require loops for element-wise operations\n",
    "\n",
    "4. **Memory consumption**\n",
    "   - NumPy arrays: More memory efficient (contiguous memory allocation)\n",
    "   - Python lists: Less memory efficient (stores pointers to objects)\n",
    "\n",
    "5. **Fast and convenient to use**\n",
    "   - NumPy arrays: Optimized for numerical computations (written in C)\n",
    "   - Python lists: Slower for mathematical operations but more flexible"
   ],
   "id": "fa49f09f2e4c8958"
  },
  {
   "metadata": {},
   "cell_type": "markdown",
   "source": [
    "**c. Using Python function `type()`, find the type of above list/arrays.**\n",
    "\n",
    "**Ans:**"
   ],
   "id": "7017ebd34bf856da"
  },
  {
   "metadata": {},
   "cell_type": "code",
   "source": [
    "import numpy as np\n",
    "list_x=[1,2,3,4] #python list\n",
    "array = np.array([1, 2, 3, 4, 5, 6]) # single dimensional array\n",
    "matrix = np.array([[1, 2, 3, 4],[5, 6, 7, 8], [9, 10, 11, 12]]) # nD array\n",
    "print(type(array))\n",
    "print(type(matrix))"
   ],
   "id": "baf56b2210de589e",
   "outputs": [],
   "execution_count": null
  },
  {
   "metadata": {},
   "cell_type": "markdown",
   "source": "#### Example 02:",
   "id": "258e0396df9b49be"
  },
  {
   "metadata": {},
   "cell_type": "code",
   "source": [
    "l=[]\n",
    "for i in range(1,5):\n",
    "    int_1=int(input(\"Enter :\"))\n",
    "    l.append(int_1)\n",
    "print(np.array([l]))"
   ],
   "id": "4c1d89d0a4a2c807",
   "outputs": [],
   "execution_count": null
  },
  {
   "metadata": {},
   "cell_type": "markdown",
   "source": "#### Task 02:",
   "id": "5aafda5e4fc0066b"
  },
  {
   "metadata": {},
   "cell_type": "markdown",
   "source": [
    "**a. Write the result of `print(np.ndim(l))` and `print(np.shape(l))`. What do the functions `ndim()` and `shape()` do?**\n",
    "\n",
    "**Ans:**\n",
    "\n",
    "- `print(np.ndim(l))`: `1`\n",
    "- `print(np.shape(l))`: `(4,)`"
   ],
   "id": "ba321b56b20135c"
  },
  {
   "metadata": {},
   "cell_type": "markdown",
   "source": [
    "**b. Write the result of `np.array([1, 2, 3], ndmin=6)`.**\n",
    "\n",
    "**Ans:**\n",
    "\n",
    "- **Result of `np.array([1,2,3], ndmin=6)`:**\n",
    "```python\n",
    "[[[[[[1 2 3]]]]]]"
   ],
   "id": "643bff1c35493aae"
  },
  {
   "metadata": {},
   "cell_type": "markdown",
   "source": "#### Example 03:",
   "id": "33ce3e2510b85c81"
  },
  {
   "metadata": {},
   "cell_type": "code",
   "source": [
    "arr_zero=np.zeros(4)\n",
    "arr_zero_2=np.zeros([3,4])\n",
    "arr_ones=np.ones(3)\n",
    "arr_em=np.empty(4)\n",
    "arr_rn=np.arange(4)\n",
    "arr_dia=np.eye(3)\n",
    "arr_lin=np.linspace(0,20,num=5)\n",
    "arr_rand1=np.random.rand(4)\n",
    "arr_rand2=np.random.rand(2,5)\n",
    "arr_rand3=np.random.randint(5,20,2)# randint(min, max, number_of_item)"
   ],
   "id": "e5cb74d1b4c0437",
   "outputs": [],
   "execution_count": null
  },
  {
   "metadata": {},
   "cell_type": "markdown",
   "source": "#### Task 03:",
   "id": "e10ad314d41f7d7c"
  },
  {
   "metadata": {},
   "cell_type": "markdown",
   "source": [
    "**a. Print all the arrays from example 3 and write the functions of each of the NumPy functions.**\n",
    "\n",
    "**Ans:**\n",
    "\n",
    "**Functions of each NumPy function:**\n",
    "\n",
    "1. **`np.zeros(shape)`**\n",
    "   - Creates an array of the given shape filled with zeros\n",
    "\n",
    "2. **`np.ones(shape)`**\n",
    "   - Creates an array of the given shape filled with ones\n",
    "\n",
    "3. **`np.empty(shape)`**\n",
    "   - Creates an uninitialized array of the given shape\n",
    "\n",
    "4. **`np.arange([start, ]stop, [step, ])`**\n",
    "   - Returns evenly spaced values within an interval\n",
    "\n",
    "5. **`np.eye(N)`**\n",
    "   - Creates a 2D identity matrix (ones on diagonal)\n",
    "\n",
    "6. **`np.linspace(start, stop, num)`**\n",
    "   - Returns evenly spaced numbers over an interval\n",
    "\n",
    "7. **`np.random.rand(d0, d1, ..., dn)`**\n",
    "   - Creates array with random values from [0,1)\n",
    "\n",
    "8. **`np.random.randint(low, high=None, size=None)`**\n",
    "   - Returns random integers from low to high"
   ],
   "id": "1e017a8c5302fdb2"
  },
  {
   "metadata": {},
   "cell_type": "code",
   "source": [
    "arr_zero=np.zeros(4)\n",
    "arr_zero_2=np.zeros([3,4])\n",
    "arr_ones=np.ones(3)\n",
    "arr_em=np.empty(4)\n",
    "arr_rn=np.arange(4)\n",
    "arr_dia=np.eye(3)\n",
    "arr_lin=np.linspace(0,20,num=5)\n",
    "arr_rand1=np.random.rand(4)\n",
    "arr_rand2=np.random.rand(2,5)\n",
    "arr_rand3=np.random.randint(5,20,2)# randint(min, max, number_of_item)\n",
    "print(\"arr_zero:\", arr_zero)\n",
    "print(\"arr_zero_2:\", arr_zero_2)\n",
    "print(\"arr_ones:\", arr_ones)\n",
    "print(\"arr_em:\", arr_em)\n",
    "print(\"arr_rn:\", arr_rn)\n",
    "print(\"arr_dia:\", arr_dia)\n",
    "print(\"arr_lin:\", arr_lin)\n",
    "print(\"arr_rand1:\", arr_rand1)\n",
    "print(\"arr_rand2:\", arr_rand2)\n",
    "print(\"arr_rand3:\", arr_rand3)"
   ],
   "id": "7d674d75b39c0674",
   "outputs": [],
   "execution_count": null
  },
  {
   "metadata": {},
   "cell_type": "markdown",
   "source": [
    "**b. Create a 3×4 matrix with all elements equal to zero.**\n",
    "\n",
    "**Ans:**"
   ],
   "id": "266acc70b4150379"
  },
  {
   "metadata": {},
   "cell_type": "code",
   "source": [
    "import numpy as np\n",
    "matrix_zeros = np.zeros((3, 4))\n",
    "print(matrix_zeros)"
   ],
   "id": "c27e10f075c04761",
   "outputs": [],
   "execution_count": null
  },
  {
   "metadata": {},
   "cell_type": "markdown",
   "source": "#### Example 04:",
   "id": "cc91d07babae6549"
  },
  {
   "metadata": {},
   "cell_type": "code",
   "source": [
    "#addition and subtraction\n",
    "arr1 = np.array([[12,34],[44,22]])\n",
    "arr2 = np.array([[1,34],[0,22]])\n",
    "arr3 = np.add(arr1,arr2)\n",
    "arr4 = np.subtract(arr1,arr2)\n",
    "print(arr3)\n",
    "print(arr4)"
   ],
   "id": "441c4e9fdf51e483",
   "outputs": [],
   "execution_count": null
  },
  {
   "metadata": {},
   "cell_type": "markdown",
   "source": "#### Example 05:",
   "id": "479b8d0a2d8a40d6"
  },
  {
   "metadata": {},
   "cell_type": "code",
   "source": [
    "arr1 = np.array([[1,2,3],[2,3,4],[2,3,4]])\n",
    "arr2 = np.array([[21,4],[2,1],[2,3]])\n",
    "arr3 = np.dot(arr1, arr2)\n",
    "arr4 = np.matmul(arr1, arr2)\n",
    "print(arr3)\n",
    "print(arr4)\n",
    "print(np.transpose(arr3))"
   ],
   "id": "6e308c01df27e1cf",
   "outputs": [],
   "execution_count": null
  },
  {
   "metadata": {},
   "cell_type": "markdown",
   "source": "#### Task 04:",
   "id": "ae61fca6c4866a68"
  },
  {
   "metadata": {},
   "cell_type": "markdown",
   "source": [
    "**a. What is the difference between `np.dot()` and `np.matmul()`? What is the result of `np.dot(5, arr1)`?**\n",
    "\n",
    "**Ans:**\n",
    "\n",
    "- **`np.dot()`**\n",
    "  - For 2-D arrays: Performs matrix multiplication\n",
    "  - For 1-D arrays: Computes the dot product (sum of products)\n",
    "  - For N-D arrays: Computes sum product over last axis of first array and second-to-last axis of second array\n",
    "\n",
    "- **`np.matmul()`**\n",
    "  - For 2-D arrays: Strict matrix multiplication only\n",
    "  - For N-D arrays: Matrix multiplication along last two axes\n",
    "\n",
    "- **Result of `np.dot(5, arr1)`:**\n",
    "  ```python\n",
    "  [[ 5 10 15]\n",
    " [10 15 20]\n",
    " [10 15 20]]"
   ],
   "id": "7af7f1a07784f4d6"
  },
  {
   "metadata": {},
   "cell_type": "markdown",
   "source": [
    "**b. What is the result of `np.transpose(arr3)`?**\n",
    "\n",
    "**Ans:**\n",
    "\n",
    "- **Result of `np.transpose(arr3)`:**\n",
    "```python\n",
    "[[31 56 56]\n",
    " [15 23 23]]"
   ],
   "id": "4fce2da13be8c18"
  },
  {
   "metadata": {},
   "cell_type": "markdown",
   "source": [
    "**c. How would you scalar multiply the matrix `np.array([[2,3],[4,5]])` by 3?**\n",
    "\n",
    "**Ans:**"
   ],
   "id": "790303e26a4c362f"
  },
  {
   "metadata": {},
   "cell_type": "code",
   "source": [
    "import numpy as np\n",
    "matrix = np.array([[2, 3], [4, 5]])\n",
    "result = matrix * 3\n",
    "print(result)"
   ],
   "id": "b7711a7d83873d37",
   "outputs": [],
   "execution_count": null
  },
  {
   "metadata": {},
   "cell_type": "markdown",
   "source": "#### Example 06:",
   "id": "c1a3b54202b2619b"
  },
  {
   "metadata": {},
   "cell_type": "code",
   "source": [
    "import numpy as np\n",
    "import matplotlib.pyplot as plt\n",
    "x = np.linspace(0, 5, 20)\n",
    "y = np.linspace(0, 10, 20)\n",
    "plt.plot(x, y, 'purple') # line\n",
    "plt.xlabel(\"X-axis\")\n",
    "plt.ylabel(\"Y-axis\")\n",
    "plt.title(\"Demo graph\")\n",
    "plt.plot(x, y, 'o')\n",
    "plt.show()"
   ],
   "id": "bd49045b431d2d2d",
   "outputs": [],
   "execution_count": null
  },
  {
   "metadata": {},
   "cell_type": "markdown",
   "source": "#### Task 05:",
   "id": "96a45f7020e4990d"
  },
  {
   "metadata": {},
   "cell_type": "markdown",
   "source": [
    "**a. Prepare X and Y coordinates values for the function f(x) = 4x^2+2 using NumPy array and plot\n",
    "the graph using Matplotlib.**\n",
    "\n",
    "**Ans:**\n"
   ],
   "id": "62441534ed24288a"
  },
  {
   "metadata": {},
   "cell_type": "code",
   "source": [
    "import matplotlib.pyplot as plt\n",
    "x = [1,2,3,4,5]\n",
    "y = []\n",
    "for i in x:\n",
    "    fx = 4 * i ** 2 + 2\n",
    "    y.append(fx)\n",
    "plt.plot(x,y)\n",
    "plt.xlabel(\"X-axis\")\n",
    "plt.ylabel(\"Y-axis\")\n",
    "plt.title(\"f(x) = 4x^2 + 2\")\n",
    "plt.show()"
   ],
   "id": "ec23180398849177",
   "outputs": [],
   "execution_count": null
  },
  {
   "metadata": {},
   "cell_type": "markdown",
   "source": "#### Example 07:",
   "id": "15e4b4fcd68f8b18"
  },
  {
   "metadata": {},
   "cell_type": "markdown",
   "source": [
    "**Create two vectors in 2-dimensional (2D) space and plot them using Matplotlib.**\n",
    "\n",
    "**Solution:** A vector in 2D space can created as a 1D ndarray with two elements as:\n",
    "```python\n",
    "V = np.array([1,1])\n",
    "W = np.array([-2.0,-1])\n",
    "\n",
    "To plot the above vectors, we will use the quiver() function from the pyplot module of Matplotlib\n",
    "library. The quiver() function is used to create 2D field or velocity plots and is perfect for our purpose\n",
    "of vector plotting. Here is an example of plotting the above vectors.\n",
    "\n"
   ],
   "id": "d7e4684bb5191218"
  },
  {
   "metadata": {},
   "cell_type": "code",
   "source": [
    "import numpy as np\n",
    "import matplotlib.pyplot as plt\n",
    "\"\"\" Problem 2: Create 2-dimensional position vectors and plot them. \"\"\"\n",
    "origin = np.array([0,0])\n",
    "V = np.array([1,1])\n",
    "W = np.array([-2.0,-1])\n",
    "fig, ax = plt.subplots()\n",
    "# Add vectors V and W to the plot\n",
    "ax.quiver(origin[0], origin[1], V[0], V[1], angles='xy', scale_units='xy', scale=1, color='r')\n",
    "ax.quiver(origin[0], origin[1], W[0], W[1], angles='xy', scale_units='xy', scale=1, color='b')\n",
    "ax.text(origin[0]-0.1, origin[1]+0.1, \"O\")\n",
    "ax.text(V[0], V[1], \"v\")\n",
    "ax.text(W[0]-0.125, W[1]-0.1, \"w\")\n",
    "ax.set_xlim([-3, 3])\n",
    "ax.set_ylim([-3, 3])\n",
    "ax.set_xlabel('X')\n",
    "ax.set_ylabel('Y')\n",
    "plt.grid()\n",
    "plt.show()"
   ],
   "id": "e6ca6e901238e478",
   "outputs": [],
   "execution_count": null
  },
  {
   "metadata": {},
   "cell_type": "markdown",
   "source": "#### Task 06:",
   "id": "c132d7599342f0c3"
  },
  {
   "metadata": {},
   "cell_type": "markdown",
   "source": [
    "**a. Create three vectors in 3D space and plot them using Matplotlib.**\n",
    "\n",
    "**Ans:**"
   ],
   "id": "f759bc0877dd97e4"
  },
  {
   "metadata": {},
   "cell_type": "code",
   "source": [
    "import matplotlib.pyplot as plt\n",
    "import numpy as np\n",
    "U= np.array([1, 0.25 ,0])\n",
    "V = np.array([0, 1, 0.25])\n",
    "W = np.array([0.25, 0, 1])\n",
    "fig = plt.figure()\n",
    "ax = fig.add_subplot(111, projection='3d')\n",
    "plt.plot(U,V,W)\n",
    "plt.show()"
   ],
   "id": "e57010c3b008b66a",
   "outputs": [],
   "execution_count": null
  },
  {
   "metadata": {},
   "cell_type": "markdown",
   "source": [
    "**b. Create two vectors in 2D space, and add them to create a third vector, and plot all three vectors\n",
    "using Matplotlib.**\n",
    "\n",
    "**Ans:**"
   ],
   "id": "4b7229a6e397061d"
  },
  {
   "metadata": {},
   "cell_type": "code",
   "source": [
    "import matplotlib.pyplot as plt\n",
    "import numpy as np\n",
    "U = np.array([-0.5, 0.5])\n",
    "V = np.array([1,1])\n",
    "W = U + V # adding two vector\n",
    "fig = plt.figure()\n",
    "plt.plot(W)\n",
    "plt.show()"
   ],
   "id": "84eaccbe1b080fef",
   "outputs": [],
   "execution_count": null
  },
  {
   "metadata": {},
   "cell_type": "markdown",
   "source": [
    "**c. Write a function to calculate magnitude of a vector. For example, calculate the magnitude of\n",
    "the vector be U = (1.5, 1.5, 2.0).**\n",
    "\n",
    "**Ans:**"
   ],
   "id": "e4f42b4254ae05d3"
  },
  {
   "metadata": {},
   "cell_type": "code",
   "source": [
    "import math\n",
    "U = (1.5, 1.5, 2.0)\n",
    "mag = 0\n",
    "for i in U:\n",
    "    mag += i ** 2\n",
    "mag = math.sqrt(mag)\n",
    "print(mag)"
   ],
   "id": "dd6a23cd74e8ed96",
   "outputs": [],
   "execution_count": null
  },
  {
   "metadata": {},
   "cell_type": "markdown",
   "source": [
    "**d. Write a function to calculate the direction cosines of the vector. For example, let the vector be\n",
    "O = (1.5, 1.5, 2.0).**\n",
    "\n",
    "**Ans**"
   ],
   "id": "ed3da97c6fd327ee"
  },
  {
   "metadata": {},
   "cell_type": "code",
   "source": [
    "import math\n",
    "O = (1.5, 1.5, 2.0)\n",
    "mag = 0\n",
    "for i in U:\n",
    "    mag += i ** 2\n",
    "mag = math.sqrt(mag)\n",
    "for i in U:\n",
    "    print(i/mag)"
   ],
   "id": "c00f68b1ad106288",
   "outputs": [],
   "execution_count": null
  },
  {
   "metadata": {},
   "cell_type": "markdown",
   "source": [
    "**e. Write a function to calculate Scalar (dot) product of two vectors. For example, let the vectors\n",
    "be a= (1.5, 1.5, 2.0) and b = (−1.5, 0.5, 2.0).**\n",
    "\n",
    "**Ans:**"
   ],
   "id": "f9c2a51c2a7180fc"
  },
  {
   "metadata": {},
   "cell_type": "code",
   "source": [
    "a = (1.5, 1.5, 2.0)\n",
    "b = (-1.5, 0.5, 2.0)\n",
    "pro = 0\n",
    "for i in range(3):\n",
    "    pro += a[i] * b[i]\n",
    "print(pro)"
   ],
   "id": "c1072a87e551b119",
   "outputs": [],
   "execution_count": null
  },
  {
   "metadata": {},
   "cell_type": "markdown",
   "source": [
    "**f. Write a function to calculate Vector (cross) product of two vectors. For example, let the vectors\n",
    "be a = (1.5, 1.5, 2.0) and b= (−1.5, 0.5, 2.0).**\n",
    "\n",
    "**Ans:**"
   ],
   "id": "5971cda712d2438f"
  },
  {
   "metadata": {},
   "cell_type": "code",
   "source": [
    "import numpy as np\n",
    "a = (1.5, 1.5, 2.0)\n",
    "b = (-1.5, 0.5, 2.0)\n",
    "pro = np.cross(a, b)\n",
    "print(pro)"
   ],
   "id": "8d8c16bf05f40363",
   "outputs": [],
   "execution_count": null
  }
 ],
 "metadata": {
  "kernelspec": {
   "display_name": "Python 3",
   "language": "python",
   "name": "python3"
  },
  "language_info": {
   "codemirror_mode": {
    "name": "ipython",
    "version": 2
   },
   "file_extension": ".py",
   "mimetype": "text/x-python",
   "name": "python",
   "nbconvert_exporter": "python",
   "pygments_lexer": "ipython2",
   "version": "2.7.6"
  }
 },
 "nbformat": 4,
 "nbformat_minor": 5
}
