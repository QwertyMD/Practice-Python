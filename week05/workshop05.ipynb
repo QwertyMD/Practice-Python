{
 "cells": [
  {
   "metadata": {},
   "cell_type": "markdown",
   "source": "#### Example 01:",
   "id": "dc061d9472b4d3c9"
  },
  {
   "metadata": {},
   "cell_type": "code",
   "source": [
    "import numpy as np\n",
    "list_x=[1,2,3,4] #python list\n",
    "array = np.array([1, 2, 3, 4, 5, 6]) # single dimensional array\n",
    "matrix = np.array([[1, 2, 3, 4],[5, 6, 7, 8], [9, 10, 11, 12]]) # nD array"
   ],
   "id": "441cd1866e1bf516",
   "outputs": [],
   "execution_count": null
  },
  {
   "metadata": {},
   "cell_type": "markdown",
   "source": "#### Task 01:",
   "id": "f1ad46744db8ab16"
  },
  {
   "metadata": {},
   "cell_type": "markdown",
   "source": [
    "**a. What are the results of `print(array[0])`, `print(matrix[1])`, and `matrix[1,2]`?**\n",
    "\n",
    "**Ans:**\n",
    "- `print(array[0])`: `1`\n",
    "- `print(matrix[1])`: `[5, 6, 7, 8]`\n",
    "- `matrix[1,2]`: `7`"
   ],
   "id": "12c35b3b2466de02"
  },
  {
   "metadata": {},
   "cell_type": "markdown",
   "source": [
    "**b. What are the differences between NumPy array and Python list?**\n",
    "\n",
    "*Hint: write the difference on the basis of the following:*\n",
    "\n",
    "- **Data type storage**\n",
    "- **Importing modules**\n",
    "- **Numerical operations**\n",
    "- **Memory consumption**\n",
    "- **Fast and convenient to use**\n",
    "\n",
    "**Ans:**\n",
    "\n",
    "1. **Data type storage**\n",
    "   - NumPy arrays: Store homogeneous data types (all elements same type)\n",
    "   - Python lists: Can store heterogeneous data types (mixed types allowed)\n",
    "\n",
    "2. **Importing modules**\n",
    "   - NumPy arrays: Require `import numpy` to use\n",
    "   - Python lists: Built-in, no import needed\n",
    "\n",
    "3. **Numerical operations**\n",
    "   - NumPy arrays: Support vectorized operations (fast element-wise operations)\n",
    "   - Python lists: Require loops for element-wise operations\n",
    "\n",
    "4. **Memory consumption**\n",
    "   - NumPy arrays: More memory efficient (contiguous memory allocation)\n",
    "   - Python lists: Less memory efficient (stores pointers to objects)\n",
    "\n",
    "5. **Fast and convenient to use**\n",
    "   - NumPy arrays: Optimized for numerical computations (written in C)\n",
    "   - Python lists: Slower for mathematical operations but more flexible"
   ],
   "id": "fa49f09f2e4c8958"
  },
  {
   "metadata": {},
   "cell_type": "markdown",
   "source": [
    "**c. Using Python function `type()`, find the type of above list/arrays.**\n",
    "\n",
    "**Ans:**"
   ],
   "id": "7017ebd34bf856da"
  },
  {
   "metadata": {},
   "cell_type": "code",
   "source": [
    "print(type(array))\n",
    "print(type(matrix))"
   ],
   "id": "baf56b2210de589e",
   "outputs": [],
   "execution_count": null
  },
  {
   "metadata": {},
   "cell_type": "markdown",
   "source": "#### Example 02:",
   "id": "258e0396df9b49be"
  },
  {
   "metadata": {},
   "cell_type": "code",
   "source": [
    "l=[]\n",
    "for i in range(1,5):\n",
    "    int_1=int(input(\"Enter :\"))\n",
    "    l.append(int_1)\n",
    "print(np.array([l]))"
   ],
   "id": "4c1d89d0a4a2c807",
   "outputs": [],
   "execution_count": null
  },
  {
   "metadata": {},
   "cell_type": "markdown",
   "source": "#### Task 02:",
   "id": "5aafda5e4fc0066b"
  },
  {
   "metadata": {},
   "cell_type": "markdown",
   "source": [
    "**a. Write the result of `print(np.ndim(l))` and `print(np.shape(l))`. What do the functions `ndim()` and `shape()` do?**\n",
    "\n",
    "**Ans:**\n",
    "\n",
    "- `print(np.ndim(l))`: `1`\n",
    "- `print(np.shape(l))`: `(4,)`"
   ],
   "id": "ba321b56b20135c"
  },
  {
   "metadata": {},
   "cell_type": "markdown",
   "source": "#### Example 03:",
   "id": "33ce3e2510b85c81"
  },
  {
   "metadata": {},
   "cell_type": "code",
   "source": [
    "arr_zero=np.zeros(4)\n",
    "arr_zero_2=np.zeros([3,4])\n",
    "arr_ones=np.ones(3)\n",
    "arr_em=np.empty(4)\n",
    "arr_rn=np.arange(4)\n",
    "arr_dia=np.eye(3)\n",
    "arr_lin=np.linspace(0,20,num=5)\n",
    "arr_rand1=np.random.rand(4)\n",
    "arr_rand2=np.random.rand(2,5)\n",
    "arr_rand3=np.random.randint(5,20,2)# randint(min, max, number_of_item)"
   ],
   "id": "e5cb74d1b4c0437",
   "outputs": [],
   "execution_count": null
  },
  {
   "metadata": {},
   "cell_type": "markdown",
   "source": "#### Task 03:",
   "id": "e10ad314d41f7d7c"
  },
  {
   "metadata": {},
   "cell_type": "markdown",
   "source": [
    "**a. Print all the arrays from example 3 and write the functions of each of the NumPy functions.**\n",
    "\n",
    "**Ans:**\n",
    "\n",
    "**Functions of each NumPy function:**\n",
    "\n",
    "1. **`np.zeros(shape)`**\n",
    "   - Creates an array of the given shape filled with zeros\n",
    "\n",
    "2. **`np.ones(shape)`**\n",
    "   - Creates an array of the given shape filled with ones\n",
    "\n",
    "3. **`np.empty(shape)`**\n",
    "   - Creates an uninitialized array of the given shape\n",
    "\n",
    "4. **`np.arange([start, ]stop, [step, ])`**\n",
    "   - Returns evenly spaced values within an interval\n",
    "\n",
    "5. **`np.eye(N)`**\n",
    "   - Creates a 2D identity matrix (ones on diagonal)\n",
    "\n",
    "6. **`np.linspace(start, stop, num)`**\n",
    "   - Returns evenly spaced numbers over an interval\n",
    "\n",
    "7. **`np.random.rand(d0, d1, ..., dn)`**\n",
    "   - Creates array with random values from [0,1)\n",
    "\n",
    "8. **`np.random.randint(low, high=None, size=None)`**\n",
    "   - Returns random integers from low to high"
   ],
   "id": "1e017a8c5302fdb2"
  },
  {
   "metadata": {},
   "cell_type": "code",
   "source": [
    "print(\"arr_zero:\", arr_zero)\n",
    "print(\"arr_zero_2:\", arr_zero_2)\n",
    "print(\"arr_ones:\", arr_ones)\n",
    "print(\"arr_em:\", arr_em)\n",
    "print(\"arr_rn:\", arr_rn)\n",
    "print(\"arr_dia:\", arr_dia)\n",
    "print(\"arr_lin:\", arr_lin)\n",
    "print(\"arr_rand1:\", arr_rand1)\n",
    "print(\"arr_rand2:\", arr_rand2)\n",
    "print(\"arr_rand3:\", arr_rand3)"
   ],
   "id": "7d674d75b39c0674",
   "outputs": [],
   "execution_count": null
  },
  {
   "metadata": {},
   "cell_type": "markdown",
   "source": [
    "**b. Create a 3×4 matrix with all elements equal to zero.**\n",
    "\n",
    "**Ans:**"
   ],
   "id": "266acc70b4150379"
  },
  {
   "metadata": {},
   "cell_type": "code",
   "source": [
    "matrix_zeros = np.zeros((3, 4))\n",
    "print(matrix_zeros)"
   ],
   "id": "c27e10f075c04761",
   "outputs": [],
   "execution_count": null
  }
 ],
 "metadata": {
  "kernelspec": {
   "display_name": "Python 3",
   "language": "python",
   "name": "python3"
  },
  "language_info": {
   "codemirror_mode": {
    "name": "ipython",
    "version": 2
   },
   "file_extension": ".py",
   "mimetype": "text/x-python",
   "name": "python",
   "nbconvert_exporter": "python",
   "pygments_lexer": "ipython2",
   "version": "2.7.6"
  }
 },
 "nbformat": 4,
 "nbformat_minor": 5
}
